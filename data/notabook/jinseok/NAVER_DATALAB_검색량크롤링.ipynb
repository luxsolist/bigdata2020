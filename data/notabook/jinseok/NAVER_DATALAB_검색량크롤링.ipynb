{
 "cells": [
  {
   "cell_type": "code",
   "execution_count": 39,
   "metadata": {},
   "outputs": [],
   "source": [
    "import pandas as pd\n",
    "from sqlalchemy import create_engine\n",
    "from bs4 import BeautifulSoup as bs\n",
    "from selenium import webdriver\n",
    "from selenium.webdriver.common.action_chains import ActionChains"
   ]
  },
  {
   "cell_type": "code",
   "execution_count": 24,
   "metadata": {},
   "outputs": [],
   "source": [
    "tour_data = pd.read_csv('/Users/jeenskki/Documents/bigdata2020/data/tour_data.csv', encoding='UTF-8')"
   ]
  },
  {
   "cell_type": "code",
   "execution_count": 83,
   "metadata": {},
   "outputs": [
    {
     "data": {
      "text/plain": [
       "0               코스테이\n",
       "1      피에프비파트너스,마린칸토\n",
       "2             가나아트센터\n",
       "3        가나안경원,명동2호점\n",
       "4      가든파이브,Garden5\n",
       "5             가락관광호텔\n",
       "6    가락시장가락농수산물,도매시장\n",
       "7               가람화랑\n",
       "8          가로수길,홈스테이\n",
       "9             가로수스테이\n",
       "Name: title2, dtype: object"
      ]
     },
     "execution_count": 83,
     "metadata": {},
     "output_type": "execute_result"
    }
   ],
   "source": [
    "tour_data[\"title\"] = tour_data[\"title\"].str.replace(\"[()\\[\\]㈜]\", \"\")\n",
    "tour_data[\"title2\"] = tour_data[\"title\"].str.replace(\"서울\", \" \")\n",
    "tour_data[\"title2\"] = tour_data[\"title2\"].str.replace(\" 대학교\", \"서울대학교\")\n",
    "tour_data[\"title2\"] = tour_data[\"title2\"].str.replace(\" \", \",\")\n",
    "\n",
    "tour_data[\"title2\"].head(10)"
   ]
  },
  {
   "cell_type": "code",
   "execution_count": 81,
   "metadata": {},
   "outputs": [],
   "source": [
    "import time\n",
    "\n",
    "def crawling(tour_data):\n",
    "    val = []\n",
    "    # driver 경로는 각자 PC 경로로 할 것\n",
    "    driver = webdriver.Chrome(\"/Users/jeenskki/Desktop/chromedriver_mac64/chromedriver\")\n",
    "    driver.get(\"https://datalab.naver.com/keyword/trendSearch.naver\")\n",
    "    \n",
    "    for i in range(len(tour_data)):\n",
    "        driver.get(\"https://datalab.naver.com/keyword/trendSearch.naver\") \n",
    "        driver.find_element_by_id(\"item_keyword1\").send_keys(tour_data[\"title\"].iloc[i])\n",
    "        driver.find_element_by_id(\"item_sub_keyword1_1\").send_keys(tour_data[\"title2\"].iloc[i])\n",
    "\n",
    "        driver.find_element_by_id(\"timeDimensionTitle\").click()\n",
    "        driver.find_element_by_class_name(\"_item_month\").click()\n",
    "        driver.find_element_by_css_selector(\"._trend_search_detail_query\").click()    \n",
    "\n",
    "        res = []\n",
    "        \n",
    "        time.sleep(1)\n",
    "        \n",
    "        for j in range(1, 13):\n",
    "            action = ActionChains(driver)\n",
    "            c = driver.find_element_by_css_selector(\"circle.bb-circle:nth-of-type({})\".format(j))\n",
    "            action.move_to_element(c).perform()\n",
    "\n",
    "            cnt = driver.find_element_by_css_selector(\".tooltip > .value\").get_attribute(\"innerHTML\")\n",
    "            res.append(cnt)        \n",
    "        val.append(res)\n",
    "    driver.quit()\n",
    "    \n",
    "    col = []\n",
    "    for i in range(1, 13):\n",
    "        v = \"month_{}\".format(i)\n",
    "        col.append(v)\n",
    "        \n",
    "    df = pd.DataFrame(val, columns = col)\n",
    "    df[\"tour_id\"] = tour_data[\"tour_id\"]\n",
    "    df = df[-1:] + df[:-1]\n",
    "    return df"
   ]
  },
  {
   "cell_type": "code",
   "execution_count": 80,
   "metadata": {},
   "outputs": [
    {
     "data": {
      "text/html": [
       "<div>\n",
       "<style scoped>\n",
       "    .dataframe tbody tr th:only-of-type {\n",
       "        vertical-align: middle;\n",
       "    }\n",
       "\n",
       "    .dataframe tbody tr th {\n",
       "        vertical-align: top;\n",
       "    }\n",
       "\n",
       "    .dataframe thead th {\n",
       "        text-align: right;\n",
       "    }\n",
       "</style>\n",
       "<table border=\"1\" class=\"dataframe\">\n",
       "  <thead>\n",
       "    <tr style=\"text-align: right;\">\n",
       "      <th></th>\n",
       "      <th>month_1</th>\n",
       "      <th>month_2</th>\n",
       "      <th>month_3</th>\n",
       "      <th>month_4</th>\n",
       "      <th>month_5</th>\n",
       "      <th>month_6</th>\n",
       "      <th>month_7</th>\n",
       "      <th>month_8</th>\n",
       "      <th>month_9</th>\n",
       "      <th>month_10</th>\n",
       "      <th>month_11</th>\n",
       "      <th>month_12</th>\n",
       "    </tr>\n",
       "  </thead>\n",
       "  <tbody>\n",
       "    <tr>\n",
       "      <th>0</th>\n",
       "      <td>50</td>\n",
       "      <td>50</td>\n",
       "      <td>57</td>\n",
       "      <td>100</td>\n",
       "      <td>38</td>\n",
       "      <td>23</td>\n",
       "      <td>11</td>\n",
       "      <td>10</td>\n",
       "      <td>4</td>\n",
       "      <td>6</td>\n",
       "      <td>0</td>\n",
       "      <td>0</td>\n",
       "    </tr>\n",
       "    <tr>\n",
       "      <th>1</th>\n",
       "      <td>57</td>\n",
       "      <td>60</td>\n",
       "      <td>100</td>\n",
       "      <td>53</td>\n",
       "      <td>36</td>\n",
       "      <td>27</td>\n",
       "      <td>34</td>\n",
       "      <td>35</td>\n",
       "      <td>26</td>\n",
       "      <td>26</td>\n",
       "      <td>17</td>\n",
       "      <td>12</td>\n",
       "    </tr>\n",
       "    <tr>\n",
       "      <th>2</th>\n",
       "      <td>17</td>\n",
       "      <td>13</td>\n",
       "      <td>16</td>\n",
       "      <td>12</td>\n",
       "      <td>12</td>\n",
       "      <td>7</td>\n",
       "      <td>12</td>\n",
       "      <td>19</td>\n",
       "      <td>16</td>\n",
       "      <td>38</td>\n",
       "      <td>100</td>\n",
       "      <td>23</td>\n",
       "    </tr>\n",
       "  </tbody>\n",
       "</table>\n",
       "</div>"
      ],
      "text/plain": [
       "  month_1 month_2 month_3 month_4 month_5 month_6 month_7 month_8 month_9  \\\n",
       "0      50      50      57     100      38      23      11      10       4   \n",
       "1      57      60     100      53      36      27      34      35      26   \n",
       "2      17      13      16      12      12       7      12      19      16   \n",
       "\n",
       "  month_10 month_11 month_12  \n",
       "0        6        0        0  \n",
       "1       26       17       12  \n",
       "2       38      100       23  "
      ]
     },
     "execution_count": 80,
     "metadata": {},
     "output_type": "execute_result"
    }
   ],
   "source": [
    "crawling(tour_data)"
   ]
  }
 ],
 "metadata": {
  "kernelspec": {
   "display_name": "Python 3",
   "language": "python",
   "name": "python3"
  },
  "language_info": {
   "codemirror_mode": {
    "name": "ipython",
    "version": 3
   },
   "file_extension": ".py",
   "mimetype": "text/x-python",
   "name": "python",
   "nbconvert_exporter": "python",
   "pygments_lexer": "ipython3",
   "version": "3.7.9"
  }
 },
 "nbformat": 4,
 "nbformat_minor": 4
}
