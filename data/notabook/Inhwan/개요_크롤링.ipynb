{
 "cells": [
  {
   "cell_type": "code",
   "execution_count": 88,
   "metadata": {},
   "outputs": [],
   "source": [
    "import os\n",
    "from time import sleep\n",
    "\n",
    "from selenium import webdriver\n",
    "from selenium.webdriver.common.keys import Keys\n",
    "from selenium.common.exceptions import NoSuchElementException\n",
    "from selenium.common.exceptions import ElementNotInteractableException\n",
    "from selenium.common.exceptions import StaleElementReferenceException\n",
    "from bs4 import BeautifulSoup\n",
    "import pandas as pd"
   ]
  },
  {
   "cell_type": "code",
   "execution_count": 89,
   "metadata": {},
   "outputs": [],
   "source": [
    "driver = webdriver.Chrome('./chromedriver.exe')\n",
    "df = pd.read_csv('./data/tour_data/tour_data.csv')\n",
    "df1 = df.loc[:,['tour_id','title']]"
   ]
  },
  {
   "cell_type": "code",
   "execution_count": 90,
   "metadata": {},
   "outputs": [],
   "source": [
    "title_list = []\n",
    "tour_id_list = []\n",
    "overview_list = []"
   ]
  },
  {
   "cell_type": "code",
   "execution_count": 91,
   "metadata": {},
   "outputs": [],
   "source": [
    "def main():\n",
    "    global driver\n",
    "    \n",
    "    driver.implicitly_wait(3)\n",
    "    driver.get('https://map.kakao.com/')\n",
    "    \n",
    "    for i in range(220, 230): # 범위 설정 **** 변경 ****\n",
    "        sleep(2)\n",
    "        print('####', i+1)\n",
    "        search(df1['title'][i], i+1)\n",
    "    driver.quit()\n",
    "    print(\"finish\")"
   ]
  },
  {
   "cell_type": "code",
   "execution_count": 92,
   "metadata": {},
   "outputs": [],
   "source": [
    "#카카오맵 첫화면에서 관광지명으로 검색한뒤 첫번째 결과로 crawilng 함수 호출하는 함수\n",
    "def search(place, tour_id):\n",
    "    global driver\n",
    "    \n",
    "    search_area = driver.find_element_by_xpath('//*[@id=\"search.keyword.query\"]')  # 검색 창\n",
    "    search_area.send_keys(place)  # 검색어 입력\n",
    "    driver.find_element_by_xpath('//*[@id=\"search.keyword.submit\"]').send_keys(Keys.ENTER)  # Enter로 검색\n",
    "    sleep(1)\n",
    "    html = driver.page_source\n",
    "    \n",
    "    try :\n",
    "        soup = BeautifulSoup(html, 'html.parser')\n",
    "        place= soup.select('.placelist > .PlaceItem')[0] # 검색된 장소 목록\n",
    "        try :\n",
    "            sleep(1)\n",
    "            crawling(place, tour_id)\n",
    "        \n",
    "        except ElementNotInteractableException:\n",
    "            print('not found')\n",
    "        finally:\n",
    "            search_area.claer()\n",
    "    except:\n",
    "        print('no search result')\n",
    "        search_area.clear()"
   ]
  },
  {
   "cell_type": "code",
   "execution_count": 93,
   "metadata": {},
   "outputs": [],
   "source": [
    "def crawling(place, tour_id):\n",
    "    place_name = place.select('.head_item > .tit_name > .link_name')[0].text  # place name\n",
    "    detail_page_xpath = '//*[@id=\"info.search.place.list\"]/li[1]/div[5]/div[4]/a[1]'\n",
    "    driver.find_element_by_xpath(detail_page_xpath).send_keys(Keys.ENTER)\n",
    "    driver.switch_to.window(driver.window_handles[-1])  # 상세정보 탭으로 변환\n",
    "    sleep(1)\n",
    "    \n",
    "    print('####', place_name, tour_id)\n",
    "    \n",
    "    # 첫 페이지\n",
    "    extract_overview(place_name, tour_id)\n",
    "    \n",
    "    driver.close()\n",
    "    driver.switch_to.window(driver.window_handles[0])  # 검색 탭으로 전환"
   ]
  },
  {
   "cell_type": "code",
   "execution_count": 94,
   "metadata": {},
   "outputs": [],
   "source": [
    "def extract_overview(place_name, tour_id):\n",
    "    global driver\n",
    "    \n",
    "    ret = True\n",
    "    \n",
    "    html = driver.page_source\n",
    "    soup = BeautifulSoup(html, 'html.parser')\n",
    "    \n",
    "    # 개요 찾기\n",
    "    overview = soup.select('.txt_introduce')\n",
    "    \n",
    "    # 개요가 있는 경우\n",
    "    if len(overview) != 0 :\n",
    "        title_list.append(place_name)\n",
    "        tour_id_list.append(tour_id)\n",
    "        overview_list.append(overview[0].text)\n",
    "        print(tour_id, overview)\n",
    "    \n",
    "    else :\n",
    "        print('no overreview in extract')\n",
    "        title_list.append(place_name)\n",
    "        tour_id_list.append(tour_id)\n",
    "        overview = None\n",
    "        overview_list.append(overview)\n",
    "        ret = False\n",
    "    return ret"
   ]
  },
  {
   "cell_type": "code",
   "execution_count": 95,
   "metadata": {},
   "outputs": [
    {
     "name": "stdout",
     "output_type": "stream",
     "text": [
      "#### 221\n",
      "#### 밥보다국시 221\n",
      "no overreview in extract\n",
      "no search result\n",
      "#### 222\n",
      "#### 국제갤러리 222\n",
      "222 [<p class=\"txt_introduce\">\n",
      "                    세계적으로 유명한 현대미술 작가의 작품과 그 흐름을 접하고 감상할 수 있는 곳\n",
      "                </p>]\n",
      "no search result\n",
      "#### 223\n",
      "#### 국제선센터 223\n",
      "223 [<p class=\"txt_introduce\">\n",
      "                    1700년의 역사를 지닌 한국불교의 전통과 문화, 특히 간화선을 전 세계에 알리기 위해 건립된 템플스테이센터.\n",
      "                </p>]\n",
      "no search result\n",
      "#### 224\n",
      "no search result\n",
      "#### 225\n",
      "#### 국제 자수원 3호점 225\n",
      "no overreview in extract\n",
      "no search result\n",
      "#### 226\n",
      "#### 국제청소년센터 드림텔 226\n",
      "no overreview in extract\n",
      "no search result\n",
      "#### 227\n",
      "#### 국화정원 227\n",
      "no overreview in extract\n",
      "no search result\n",
      "#### 228\n",
      "#### 국회의사당 헌정기념관(휴관중) 228\n",
      "228 [<p class=\"txt_introduce\">\n",
      "                    헌정기념관은 1998년 5월 29일 국회개원 50주년 기념사업의 일환으로 건립, 개관하여 국민에게 개방해오고 있다.\n",
      "                </p>]\n",
      "no search result\n",
      "#### 229\n",
      "#### 국회의사당 229\n",
      "229 [<p class=\"txt_introduce\">\n",
      "                    여성가족위원회,국회사무처,통일외교통상위원회,법제사법위원회,보건복지위원회,문화관광위원회,국방위원회\n",
      "                </p>]\n",
      "no search result\n",
      "#### 230\n",
      "#### 굿모닝시티 230\n",
      "no overreview in extract\n",
      "no search result\n",
      "finish\n"
     ]
    }
   ],
   "source": [
    "if __name__ == \"__main__\":\n",
    "    main()"
   ]
  },
  {
   "cell_type": "code",
   "execution_count": 99,
   "metadata": {
    "scrolled": true
   },
   "outputs": [
    {
     "data": {
      "text/html": [
       "<div>\n",
       "<style scoped>\n",
       "    .dataframe tbody tr th:only-of-type {\n",
       "        vertical-align: middle;\n",
       "    }\n",
       "\n",
       "    .dataframe tbody tr th {\n",
       "        vertical-align: top;\n",
       "    }\n",
       "\n",
       "    .dataframe thead th {\n",
       "        text-align: right;\n",
       "    }\n",
       "</style>\n",
       "<table border=\"1\" class=\"dataframe\">\n",
       "  <thead>\n",
       "    <tr style=\"text-align: right;\">\n",
       "      <th></th>\n",
       "      <th>tour_id</th>\n",
       "      <th>overview</th>\n",
       "    </tr>\n",
       "  </thead>\n",
       "  <tbody>\n",
       "    <tr>\n",
       "      <th>0</th>\n",
       "      <td>221</td>\n",
       "      <td>None</td>\n",
       "    </tr>\n",
       "    <tr>\n",
       "      <th>1</th>\n",
       "      <td>222</td>\n",
       "      <td>\\n                    세계적으로 유명한 현대미술 작가의 작품과 그...</td>\n",
       "    </tr>\n",
       "    <tr>\n",
       "      <th>2</th>\n",
       "      <td>223</td>\n",
       "      <td>\\n                    1700년의 역사를 지닌 한국불교의 전통과 ...</td>\n",
       "    </tr>\n",
       "    <tr>\n",
       "      <th>3</th>\n",
       "      <td>225</td>\n",
       "      <td>None</td>\n",
       "    </tr>\n",
       "    <tr>\n",
       "      <th>4</th>\n",
       "      <td>226</td>\n",
       "      <td>None</td>\n",
       "    </tr>\n",
       "    <tr>\n",
       "      <th>5</th>\n",
       "      <td>227</td>\n",
       "      <td>None</td>\n",
       "    </tr>\n",
       "    <tr>\n",
       "      <th>6</th>\n",
       "      <td>228</td>\n",
       "      <td>\\n                    헌정기념관은 1998년 5월 29일 국회개원...</td>\n",
       "    </tr>\n",
       "    <tr>\n",
       "      <th>7</th>\n",
       "      <td>229</td>\n",
       "      <td>\\n                    여성가족위원회,국회사무처,통일외교통상위원회,...</td>\n",
       "    </tr>\n",
       "    <tr>\n",
       "      <th>8</th>\n",
       "      <td>230</td>\n",
       "      <td>None</td>\n",
       "    </tr>\n",
       "  </tbody>\n",
       "</table>\n",
       "</div>"
      ],
      "text/plain": [
       "   tour_id                                           overview\n",
       "0      221                                               None\n",
       "1      222  \\n                    세계적으로 유명한 현대미술 작가의 작품과 그...\n",
       "2      223  \\n                    1700년의 역사를 지닌 한국불교의 전통과 ...\n",
       "3      225                                               None\n",
       "4      226                                               None\n",
       "5      227                                               None\n",
       "6      228  \\n                    헌정기념관은 1998년 5월 29일 국회개원...\n",
       "7      229  \\n                    여성가족위원회,국회사무처,통일외교통상위원회,...\n",
       "8      230                                               None"
      ]
     },
     "execution_count": 99,
     "metadata": {},
     "output_type": "execute_result"
    }
   ],
   "source": [
    "pd.DataFrame({'tour_id' :tour_id_list, 'overview' : overview_list})"
   ]
  },
  {
   "cell_type": "code",
   "execution_count": null,
   "metadata": {},
   "outputs": [],
   "source": []
  }
 ],
 "metadata": {
  "kernelspec": {
   "display_name": "Python 3",
   "language": "python",
   "name": "python3"
  },
  "language_info": {
   "codemirror_mode": {
    "name": "ipython",
    "version": 3
   },
   "file_extension": ".py",
   "mimetype": "text/x-python",
   "name": "python",
   "nbconvert_exporter": "python",
   "pygments_lexer": "ipython3",
   "version": "3.7.6"
  }
 },
 "nbformat": 4,
 "nbformat_minor": 4
}
