{
 "cells": [
  {
   "cell_type": "code",
   "execution_count": 1,
   "metadata": {},
   "outputs": [],
   "source": [
    "import os\n",
    "from time import sleep\n",
    "\n",
    "from selenium import webdriver\n",
    "from selenium.webdriver.common.keys import Keys\n",
    "from selenium.common.exceptions import NoSuchElementException\n",
    "from selenium.common.exceptions import ElementNotInteractableException\n",
    "from selenium.common.exceptions import StaleElementReferenceException\n",
    "from bs4 import BeautifulSoup\n",
    "import pandas as pd"
   ]
  },
  {
   "cell_type": "code",
   "execution_count": 2,
   "metadata": {},
   "outputs": [],
   "source": [
    "options = webdriver.ChromeOptions()\n",
    "options.add_argument('headless')\n",
    "options.add_argument('lang=ko_KR')\n",
    "chromedriver_path = \"chromedriver\"\n",
    "driver = webdriver.Chrome(os.path.join(os.getcwd(), chromedriver_path), options=options)  # chromedriver 열기"
   ]
  },
  {
   "cell_type": "code",
   "execution_count": 3,
   "metadata": {},
   "outputs": [],
   "source": [
    "df = pd.read_csv('C:/rsource2/tour_data.csv')\n",
    "df1 = df.loc[:,['tour_id','title']] "
   ]
  },
  {
   "cell_type": "code",
   "execution_count": 4,
   "metadata": {},
   "outputs": [
    {
     "data": {
      "text/html": [
       "<div>\n",
       "<style scoped>\n",
       "    .dataframe tbody tr th:only-of-type {\n",
       "        vertical-align: middle;\n",
       "    }\n",
       "\n",
       "    .dataframe tbody tr th {\n",
       "        vertical-align: top;\n",
       "    }\n",
       "\n",
       "    .dataframe thead th {\n",
       "        text-align: right;\n",
       "    }\n",
       "</style>\n",
       "<table border=\"1\" class=\"dataframe\">\n",
       "  <thead>\n",
       "    <tr style=\"text-align: right;\">\n",
       "      <th></th>\n",
       "      <th>tour_id</th>\n",
       "      <th>title</th>\n",
       "    </tr>\n",
       "  </thead>\n",
       "  <tbody>\n",
       "    <tr>\n",
       "      <th>200</th>\n",
       "      <td>201</td>\n",
       "      <td>구월산</td>\n",
       "    </tr>\n",
       "    <tr>\n",
       "      <th>201</th>\n",
       "      <td>202</td>\n",
       "      <td>구의 아리수 정수센터</td>\n",
       "    </tr>\n",
       "    <tr>\n",
       "      <th>202</th>\n",
       "      <td>203</td>\n",
       "      <td>구정칼국수</td>\n",
       "    </tr>\n",
       "    <tr>\n",
       "      <th>203</th>\n",
       "      <td>204</td>\n",
       "      <td>국기원(세계태권도본부)</td>\n",
       "    </tr>\n",
       "    <tr>\n",
       "      <th>204</th>\n",
       "      <td>205</td>\n",
       "      <td>국립4.19민주묘지</td>\n",
       "    </tr>\n",
       "    <tr>\n",
       "      <th>205</th>\n",
       "      <td>206</td>\n",
       "      <td>국립고궁박물관</td>\n",
       "    </tr>\n",
       "    <tr>\n",
       "      <th>206</th>\n",
       "      <td>207</td>\n",
       "      <td>국립공원 산악박물관</td>\n",
       "    </tr>\n",
       "    <tr>\n",
       "      <th>207</th>\n",
       "      <td>208</td>\n",
       "      <td>국립국악박물관</td>\n",
       "    </tr>\n",
       "    <tr>\n",
       "      <th>208</th>\n",
       "      <td>209</td>\n",
       "      <td>국립국악원</td>\n",
       "    </tr>\n",
       "    <tr>\n",
       "      <th>209</th>\n",
       "      <td>210</td>\n",
       "      <td>국립극장</td>\n",
       "    </tr>\n",
       "    <tr>\n",
       "      <th>210</th>\n",
       "      <td>211</td>\n",
       "      <td>국립민속박물관&amp;국립민속박물관 어린이박물관</td>\n",
       "    </tr>\n",
       "    <tr>\n",
       "      <th>211</th>\n",
       "      <td>212</td>\n",
       "      <td>국립서울현충원</td>\n",
       "    </tr>\n",
       "    <tr>\n",
       "      <th>212</th>\n",
       "      <td>213</td>\n",
       "      <td>국립어린이과학관</td>\n",
       "    </tr>\n",
       "    <tr>\n",
       "      <th>213</th>\n",
       "      <td>214</td>\n",
       "      <td>국립중앙도서관</td>\n",
       "    </tr>\n",
       "    <tr>\n",
       "      <th>214</th>\n",
       "      <td>215</td>\n",
       "      <td>국립중앙박물관</td>\n",
       "    </tr>\n",
       "    <tr>\n",
       "      <th>215</th>\n",
       "      <td>216</td>\n",
       "      <td>국립중앙박물관 어린이박물관</td>\n",
       "    </tr>\n",
       "    <tr>\n",
       "      <th>216</th>\n",
       "      <td>217</td>\n",
       "      <td>국립한글박물관</td>\n",
       "    </tr>\n",
       "    <tr>\n",
       "      <th>217</th>\n",
       "      <td>218</td>\n",
       "      <td>국립현대미술관(덕수궁관)</td>\n",
       "    </tr>\n",
       "    <tr>\n",
       "      <th>218</th>\n",
       "      <td>219</td>\n",
       "      <td>국립현대미술관(서울관)</td>\n",
       "    </tr>\n",
       "    <tr>\n",
       "      <th>219</th>\n",
       "      <td>220</td>\n",
       "      <td>국시명가</td>\n",
       "    </tr>\n",
       "    <tr>\n",
       "      <th>220</th>\n",
       "      <td>221</td>\n",
       "      <td>국시집</td>\n",
       "    </tr>\n",
       "    <tr>\n",
       "      <th>221</th>\n",
       "      <td>222</td>\n",
       "      <td>국제갤러리</td>\n",
       "    </tr>\n",
       "    <tr>\n",
       "      <th>222</th>\n",
       "      <td>223</td>\n",
       "      <td>국제선센터</td>\n",
       "    </tr>\n",
       "    <tr>\n",
       "      <th>223</th>\n",
       "      <td>224</td>\n",
       "      <td>국제음식문화거리(INTERNATIONAL FOOD STREET)</td>\n",
       "    </tr>\n",
       "    <tr>\n",
       "      <th>224</th>\n",
       "      <td>225</td>\n",
       "      <td>국제자수원 3호점</td>\n",
       "    </tr>\n",
       "    <tr>\n",
       "      <th>225</th>\n",
       "      <td>226</td>\n",
       "      <td>국제청소년센터 유스호스텔</td>\n",
       "    </tr>\n",
       "    <tr>\n",
       "      <th>226</th>\n",
       "      <td>227</td>\n",
       "      <td>국화정원</td>\n",
       "    </tr>\n",
       "    <tr>\n",
       "      <th>227</th>\n",
       "      <td>228</td>\n",
       "      <td>국회 방문자센터 헌정기념관</td>\n",
       "    </tr>\n",
       "    <tr>\n",
       "      <th>228</th>\n",
       "      <td>229</td>\n",
       "      <td>국회의사당</td>\n",
       "    </tr>\n",
       "    <tr>\n",
       "      <th>229</th>\n",
       "      <td>230</td>\n",
       "      <td>굿모닝시티</td>\n",
       "    </tr>\n",
       "    <tr>\n",
       "      <th>230</th>\n",
       "      <td>231</td>\n",
       "      <td>궁가는여우</td>\n",
       "    </tr>\n",
       "    <tr>\n",
       "      <th>231</th>\n",
       "      <td>232</td>\n",
       "      <td>궁나라냉면묵밥</td>\n",
       "    </tr>\n",
       "    <tr>\n",
       "      <th>232</th>\n",
       "      <td>233</td>\n",
       "      <td>궁동저수지 생태공원</td>\n",
       "    </tr>\n",
       "    <tr>\n",
       "      <th>233</th>\n",
       "      <td>234</td>\n",
       "      <td>그날우리는</td>\n",
       "    </tr>\n",
       "    <tr>\n",
       "      <th>234</th>\n",
       "      <td>235</td>\n",
       "      <td>그대와인</td>\n",
       "    </tr>\n",
       "    <tr>\n",
       "      <th>235</th>\n",
       "      <td>236</td>\n",
       "      <td>그란구스또</td>\n",
       "    </tr>\n",
       "    <tr>\n",
       "      <th>236</th>\n",
       "      <td>237</td>\n",
       "      <td>그랜드 앰배서더 서울</td>\n",
       "    </tr>\n",
       "    <tr>\n",
       "      <th>237</th>\n",
       "      <td>238</td>\n",
       "      <td>그랜드 워커힐 서울</td>\n",
       "    </tr>\n",
       "    <tr>\n",
       "      <th>238</th>\n",
       "      <td>239</td>\n",
       "      <td>그랜드 워커힐 서울 명월관</td>\n",
       "    </tr>\n",
       "    <tr>\n",
       "      <th>239</th>\n",
       "      <td>240</td>\n",
       "      <td>그랜드 인터컨티넨탈 서울 파르나스</td>\n",
       "    </tr>\n",
       "  </tbody>\n",
       "</table>\n",
       "</div>"
      ],
      "text/plain": [
       "     tour_id                                title\n",
       "200      201                                  구월산\n",
       "201      202                          구의 아리수 정수센터\n",
       "202      203                                구정칼국수\n",
       "203      204                         국기원(세계태권도본부)\n",
       "204      205                           국립4.19민주묘지\n",
       "205      206                              국립고궁박물관\n",
       "206      207                           국립공원 산악박물관\n",
       "207      208                              국립국악박물관\n",
       "208      209                                국립국악원\n",
       "209      210                                 국립극장\n",
       "210      211               국립민속박물관&국립민속박물관 어린이박물관\n",
       "211      212                              국립서울현충원\n",
       "212      213                             국립어린이과학관\n",
       "213      214                              국립중앙도서관\n",
       "214      215                              국립중앙박물관\n",
       "215      216                       국립중앙박물관 어린이박물관\n",
       "216      217                              국립한글박물관\n",
       "217      218                        국립현대미술관(덕수궁관)\n",
       "218      219                         국립현대미술관(서울관)\n",
       "219      220                                 국시명가\n",
       "220      221                                  국시집\n",
       "221      222                                국제갤러리\n",
       "222      223                                국제선센터\n",
       "223      224  국제음식문화거리(INTERNATIONAL FOOD STREET)\n",
       "224      225                            국제자수원 3호점\n",
       "225      226                        국제청소년센터 유스호스텔\n",
       "226      227                                 국화정원\n",
       "227      228                       국회 방문자센터 헌정기념관\n",
       "228      229                                국회의사당\n",
       "229      230                                굿모닝시티\n",
       "230      231                                궁가는여우\n",
       "231      232                              궁나라냉면묵밥\n",
       "232      233                           궁동저수지 생태공원\n",
       "233      234                                그날우리는\n",
       "234      235                                 그대와인\n",
       "235      236                                그란구스또\n",
       "236      237                          그랜드 앰배서더 서울\n",
       "237      238                           그랜드 워커힐 서울\n",
       "238      239                       그랜드 워커힐 서울 명월관\n",
       "239      240                   그랜드 인터컨티넨탈 서울 파르나스"
      ]
     },
     "execution_count": 4,
     "metadata": {},
     "output_type": "execute_result"
    }
   ],
   "source": [
    "df1.iloc[200:240]"
   ]
  },
  {
   "cell_type": "code",
   "execution_count": 5,
   "metadata": {},
   "outputs": [],
   "source": [
    "title = []\n",
    "comments = []\n",
    "ratings = []"
   ]
  },
  {
   "cell_type": "code",
   "execution_count": 6,
   "metadata": {},
   "outputs": [],
   "source": [
    "def main():\n",
    "    global driver, load_wb, review_num\n",
    "\n",
    "    driver.implicitly_wait(4)  # 렌더링 될때까지 기다린다 4초\n",
    "    driver.get('https://map.kakao.com/')  # 주소 가져오기\n",
    "\n",
    "    for i in range(200,240):\n",
    "        #delapy\n",
    "        sleep(3)\n",
    "        print('####',i)\n",
    "        search(df1['title'][i])\n",
    "\n",
    "    driver.quit()\n",
    "    print(\"finish\")"
   ]
  },
  {
   "cell_type": "code",
   "execution_count": 7,
   "metadata": {},
   "outputs": [],
   "source": [
    "def search(place):\n",
    "    global driver\n",
    "\n",
    "    search_area = driver.find_element_by_xpath('//*[@id=\"search.keyword.query\"]')  # 검색 창\n",
    "    search_area.send_keys(place)  # 검색어 입력\n",
    "    driver.find_element_by_xpath('//*[@id=\"search.keyword.submit\"]').send_keys(Keys.ENTER)  # Enter로 검색\n",
    "    sleep(1)\n",
    "\n",
    "    # 검색된 정보가 있는 경우에만 탐색\n",
    "    # 1번 페이지 place list 읽기\n",
    "    html = driver.page_source\n",
    "\n",
    "    try:\n",
    "        soup = BeautifulSoup(html, 'html.parser')\n",
    "        place= soup.select('.placelist > .PlaceItem')[0] # 검색된 장소 목록\n",
    "        try:\n",
    "            sleep(1)\n",
    "            crawling1(place)\n",
    "\n",
    "        except ElementNotInteractableException:\n",
    "            print('not found')\n",
    "        finally:\n",
    "            search_area.clear()\n",
    "    except:\n",
    "        print('no search result')"
   ]
  },
  {
   "cell_type": "code",
   "execution_count": 8,
   "metadata": {},
   "outputs": [],
   "source": [
    "def crawling(place):\n",
    "    \"\"\"\n",
    "    페이지 목록을 받아서 크롤링 하는 함수\n",
    "    :param place: 리뷰 정보 찾을 장소이름\n",
    "    \"\"\"\n",
    "\n",
    "    while_flag = False\n",
    "    for i in range(2):\n",
    "        # 광고에 따라서 index 조정해야함\n",
    "        #if i >= 3:\n",
    "         #   i += 1\n",
    "\n",
    "        place_name = place.select('.head_item > .tit_name > .link_name')[0].text  # place name\n",
    "        place_address = place.select('.info_item > .addr > p')[0].text  # place address\n",
    "\n",
    "        detail_page_xpath = '//*[@id=\"info.search.place.list\"]/li[' + str(i + 1) + ']/div[5]/div[4]/a[1]'\n",
    "        driver.find_element_by_xpath(detail_page_xpath).send_keys(Keys.ENTER)\n",
    "        driver.switch_to.window(driver.window_handles[-1])  # 상세정보 탭으로 변환\n",
    "        sleep(1)\n",
    "\n",
    "        print('####', place_name)\n",
    "\n",
    "        # 첫 페이지\n",
    "        extract_review1(place_name)\n",
    "\n",
    "        driver.close()\n",
    "        driver.switch_to.window(driver.window_handles[0])  # 검색 탭으로 전환"
   ]
  },
  {
   "cell_type": "code",
   "execution_count": 9,
   "metadata": {},
   "outputs": [],
   "source": [
    "def crawling1(place):\n",
    "        \"\"\"\n",
    "        페이지 목록을 받아서 크롤링 하는 함수\n",
    "        :param place: 리뷰 정보 찾을 장소이름\n",
    "        \"\"\"\n",
    "\n",
    "        place_name = place.select('.head_item > .tit_name > .link_name')[0].text  # place name\n",
    "        place_address = place.select('.info_item > .addr > p')[0].text  # place address\n",
    "\n",
    "        detail_page_xpath = '//*[@id=\"info.search.place.list\"]/li[1]/div[5]/div[4]/a[1]'\n",
    "        driver.find_element_by_xpath(detail_page_xpath).send_keys(Keys.ENTER)\n",
    "        driver.switch_to.window(driver.window_handles[-1])  # 상세정보 탭으로 변환\n",
    "        sleep(1)\n",
    "\n",
    "        print('####', place_name)\n",
    "\n",
    "        # 첫 페이지\n",
    "        extract_review1(place_name)\n",
    "\n",
    "        driver.close()\n",
    "        driver.switch_to.window(driver.window_handles[0])  # 검색 탭으로 전환"
   ]
  },
  {
   "cell_type": "code",
   "execution_count": 10,
   "metadata": {},
   "outputs": [],
   "source": [
    "def extract_review(place_name):\n",
    "    global driver\n",
    "\n",
    "    ret = True\n",
    "\n",
    "    html = driver.page_source\n",
    "    soup = BeautifulSoup(html, 'html.parser')\n",
    "\n",
    "    # 첫 페이지 리뷰 목록 찾기\n",
    "    review_lists = soup.select('.list_evaluation > li')\n",
    "\n",
    "    # 리뷰가 있는 경우\n",
    "    if len(review_lists) != 0:\n",
    "        for i, review in enumerate(review_lists):\n",
    "            comment = review.select('.txt_comment > span') # 리뷰\n",
    "            rating = review.select('.grade_star > em') # 별점\n",
    "            val = ''\n",
    "            if len(comment) != 0:\n",
    "                if len(rating) != 0:\n",
    "                    val = comment[0].text + '/' + rating[0].text.replace('점', '')\n",
    "                else:\n",
    "                    val = comment[0].text + '/0'\n",
    "                print(val)\n",
    "\n",
    "    else:\n",
    "        print('no review in extract')\n",
    "        ret = False\n",
    "\n",
    "    return ret\n"
   ]
  },
  {
   "cell_type": "code",
   "execution_count": 11,
   "metadata": {},
   "outputs": [],
   "source": [
    "def extract_review1(place_name):\n",
    "    global driver\n",
    "\n",
    "    ret = True\n",
    "\n",
    "    html = driver.page_source\n",
    "    soup = BeautifulSoup(html, 'html.parser')\n",
    "\n",
    "    # 첫 페이지 리뷰 목록 찾기\n",
    "    review_lists = soup.select('.list_evaluation > li')\n",
    "\n",
    "    # 리뷰가 있는 경우\n",
    "    if len(review_lists) != 0:\n",
    "        for i, review in enumerate(review_lists):\n",
    "            comment = review.select('.txt_comment > span') # 리뷰\n",
    "            rating = review.select('.grade_star > em') # 별점\n",
    "            val = ''\n",
    "            title.append(place_name)\n",
    "            if len(comment) != 0:\n",
    "                if len(rating) != 0:\n",
    "                    val = comment[0].text + '/' + rating[0].text.replace('점', '')\n",
    "                else:\n",
    "                    val = comment[0].text + '/0'\n",
    "                \n",
    "                comments.append(val)\n",
    "                print(val)\n",
    "\n",
    "    else:\n",
    "        print('no review in extract')\n",
    "        ret = False\n",
    "\n",
    "    return ret"
   ]
  },
  {
   "cell_type": "code",
   "execution_count": 12,
   "metadata": {
    "scrolled": true
   },
   "outputs": [
    {
     "name": "stdout",
     "output_type": "stream",
     "text": [
      "#### 200\n",
      "#### 황해도구월산\n",
      "여기 제육쌈밥 진짜 맛있어요  고기도 잡내가 없고 정말 깔끔해요 강추!/5\n",
      "조미료 하나도 안쓰고 엄청나게 깔끔한맛! 여기서 밥먹음 정말 집밥 먹은것 같고 속도 편안하고 완전 좋음/5\n",
      "도가니 수육, 담백하고 식감이 좋다. 주인 아저씨의 너스레는 서비스!/0\n",
      "#### 201\n",
      "#### 구의아리수정수센터앞 대여소\n",
      "no review in extract\n",
      "#### 202\n",
      "#### 구정만두칼국수\n",
      "칼국수에서 쇳조각 나옴. /1\n",
      "맛은 그냥그런데 서비스가 엉망 처음부터 끝까지 반말하며 안좋은 표정으로 주문받는 완전 불친절한 종업원.. ㅋ 다신 안갈듯 ㅋ ;; /1\n",
      "청국장 한 입 먹고 미소가 절로 나왔어요 열무 보리비빔밥에 청국장 한 숟가락 넣고 비벼 먹는데 이것도 맛있었어요 혼자 갔었는데 친한친구랑 같이 또 싶어진 곳이에요/5\n",
      "#### 203\n",
      "no search result\n",
      "#### 204\n",
      "no search result\n",
      "#### 205\n",
      "no search result\n",
      "#### 206\n",
      "no search result\n",
      "#### 207\n",
      "no search result\n",
      "#### 208\n",
      "no search result\n",
      "#### 209\n",
      "no search result\n",
      "#### 210\n",
      "no search result\n",
      "#### 211\n",
      "no search result\n",
      "#### 212\n",
      "no search result\n",
      "#### 213\n",
      "no search result\n",
      "#### 214\n",
      "no search result\n",
      "#### 215\n",
      "no search result\n",
      "#### 216\n",
      "no search result\n",
      "#### 217\n",
      "no search result\n",
      "#### 218\n",
      "no search result\n",
      "#### 219\n",
      "no search result\n",
      "#### 220\n",
      "no search result\n",
      "#### 221\n",
      "no search result\n",
      "#### 222\n",
      "no search result\n",
      "#### 223\n",
      "no search result\n",
      "#### 224\n",
      "no search result\n",
      "#### 225\n",
      "no search result\n",
      "#### 226\n",
      "no search result\n",
      "#### 227\n",
      "no search result\n",
      "#### 228\n",
      "no search result\n",
      "#### 229\n",
      "no search result\n",
      "#### 230\n",
      "no search result\n",
      "#### 231\n",
      "no search result\n",
      "#### 232\n",
      "no search result\n",
      "#### 233\n",
      "no search result\n",
      "#### 234\n",
      "no search result\n",
      "#### 235\n",
      "no search result\n",
      "#### 236\n",
      "no search result\n",
      "#### 237\n",
      "no search result\n",
      "#### 238\n",
      "no search result\n",
      "#### 239\n",
      "no search result\n",
      "finish\n"
     ]
    }
   ],
   "source": [
    "if __name__ == \"__main__\":\n",
    "    title = []\n",
    "    comments = []\n",
    "    ratings = []\n",
    "    main()"
   ]
  },
  {
   "cell_type": "code",
   "execution_count": 13,
   "metadata": {
    "scrolled": true
   },
   "outputs": [
    {
     "data": {
      "text/plain": [
       "['황해도구월산', '황해도구월산', '황해도구월산', '구정만두칼국수', '구정만두칼국수', '구정만두칼국수']"
      ]
     },
     "execution_count": 13,
     "metadata": {},
     "output_type": "execute_result"
    }
   ],
   "source": [
    "title"
   ]
  },
  {
   "cell_type": "code",
   "execution_count": 14,
   "metadata": {},
   "outputs": [
    {
     "data": {
      "text/plain": [
       "6"
      ]
     },
     "execution_count": 14,
     "metadata": {},
     "output_type": "execute_result"
    }
   ],
   "source": [
    "len(title)"
   ]
  },
  {
   "cell_type": "code",
   "execution_count": 15,
   "metadata": {},
   "outputs": [
    {
     "data": {
      "text/plain": [
       "['여기 제육쌈밥 진짜 맛있어요  고기도 잡내가 없고 정말 깔끔해요 강추!/5',\n",
       " '조미료 하나도 안쓰고 엄청나게 깔끔한맛! 여기서 밥먹음 정말 집밥 먹은것 같고 속도 편안하고 완전 좋음/5',\n",
       " '도가니 수육, 담백하고 식감이 좋다. 주인 아저씨의 너스레는 서비스!/0',\n",
       " '칼국수에서 쇳조각 나옴. /1',\n",
       " '맛은 그냥그런데 서비스가 엉망 처음부터 끝까지 반말하며 안좋은 표정으로 주문받는 완전 불친절한 종업원.. ㅋ 다신 안갈듯 ㅋ ;; /1',\n",
       " '청국장 한 입 먹고 미소가 절로 나왔어요 열무 보리비빔밥에 청국장 한 숟가락 넣고 비벼 먹는데 이것도 맛있었어요 혼자 갔었는데 친한친구랑 같이 또 싶어진 곳이에요/5']"
      ]
     },
     "execution_count": 15,
     "metadata": {},
     "output_type": "execute_result"
    }
   ],
   "source": [
    "comments"
   ]
  },
  {
   "cell_type": "code",
   "execution_count": 16,
   "metadata": {},
   "outputs": [],
   "source": [
    "for i in range(len(comments)):\n",
    "    ratings.append(str(comments[i])[-1])"
   ]
  },
  {
   "cell_type": "code",
   "execution_count": 17,
   "metadata": {},
   "outputs": [],
   "source": [
    "temp1 = pd.DataFrame({'title':title,'comments':comments,'ratings':ratings})"
   ]
  },
  {
   "cell_type": "code",
   "execution_count": 24,
   "metadata": {},
   "outputs": [
    {
     "data": {
      "text/plain": [
       "'5'"
      ]
     },
     "execution_count": 24,
     "metadata": {},
     "output_type": "execute_result"
    }
   ],
   "source": [
    "str(comments[2])[-1]"
   ]
  },
  {
   "cell_type": "code",
   "execution_count": 32,
   "metadata": {},
   "outputs": [
    {
     "data": {
      "text/html": [
       "<div>\n",
       "<style scoped>\n",
       "    .dataframe tbody tr th:only-of-type {\n",
       "        vertical-align: middle;\n",
       "    }\n",
       "\n",
       "    .dataframe tbody tr th {\n",
       "        vertical-align: top;\n",
       "    }\n",
       "\n",
       "    .dataframe thead th {\n",
       "        text-align: right;\n",
       "    }\n",
       "</style>\n",
       "<table border=\"1\" class=\"dataframe\">\n",
       "  <thead>\n",
       "    <tr style=\"text-align: right;\">\n",
       "      <th></th>\n",
       "      <th>title</th>\n",
       "      <th>comments</th>\n",
       "      <th>ratings</th>\n",
       "    </tr>\n",
       "  </thead>\n",
       "  <tbody>\n",
       "    <tr>\n",
       "      <th>0</th>\n",
       "      <td>가마목</td>\n",
       "      <td>최고예요</td>\n",
       "      <td>요</td>\n",
       "    </tr>\n",
       "    <tr>\n",
       "      <th>1</th>\n",
       "      <td>가마목</td>\n",
       "      <td>최고예요</td>\n",
       "      <td>요</td>\n",
       "    </tr>\n",
       "    <tr>\n",
       "      <th>2</th>\n",
       "      <td>가마목</td>\n",
       "      <td>최고예요/5</td>\n",
       "      <td>5</td>\n",
       "    </tr>\n",
       "    <tr>\n",
       "      <th>3</th>\n",
       "      <td>가마목</td>\n",
       "      <td>점심에 쌈밥 짱맛있어용 볶음밥도 꿀맛/5</td>\n",
       "      <td>5</td>\n",
       "    </tr>\n",
       "    <tr>\n",
       "      <th>4</th>\n",
       "      <td>가마목</td>\n",
       "      <td>삼겹살 너무 맛있고 직접 고기도 구워주시고 정말 친절한 식당입니다!/5</td>\n",
       "      <td>5</td>\n",
       "    </tr>\n",
       "    <tr>\n",
       "      <th>5</th>\n",
       "      <td>가마목</td>\n",
       "      <td>주문하면 화내는집. 고기주문할려고 벨 누를때마다 아주머니가 한숨쉬면서 짜증내면서 오...</td>\n",
       "      <td>1</td>\n",
       "    </tr>\n",
       "    <tr>\n",
       "      <th>6</th>\n",
       "      <td>가마목</td>\n",
       "      <td>별 1점도 아까운집 가격, 고기, 서비스 뭐 하나라도 조금이라도 좋은게 없는집/1</td>\n",
       "      <td>1</td>\n",
       "    </tr>\n",
       "  </tbody>\n",
       "</table>\n",
       "</div>"
      ],
      "text/plain": [
       "  title                                           comments ratings\n",
       "0   가마목                                               최고예요       요\n",
       "1   가마목                                               최고예요       요\n",
       "2   가마목                                             최고예요/5       5\n",
       "3   가마목                             점심에 쌈밥 짱맛있어용 볶음밥도 꿀맛/5       5\n",
       "4   가마목            삼겹살 너무 맛있고 직접 고기도 구워주시고 정말 친절한 식당입니다!/5       5\n",
       "5   가마목  주문하면 화내는집. 고기주문할려고 벨 누를때마다 아주머니가 한숨쉬면서 짜증내면서 오...       1\n",
       "6   가마목      별 1점도 아까운집 가격, 고기, 서비스 뭐 하나라도 조금이라도 좋은게 없는집/1       1"
      ]
     },
     "execution_count": 32,
     "metadata": {},
     "output_type": "execute_result"
    }
   ],
   "source": [
    "temp1"
   ]
  },
  {
   "cell_type": "code",
   "execution_count": 33,
   "metadata": {},
   "outputs": [
    {
     "data": {
      "text/plain": [
       "['요', '요', '5', '5', '5', '1', '1']"
      ]
     },
     "execution_count": 33,
     "metadata": {},
     "output_type": "execute_result"
    }
   ],
   "source": [
    "ratings"
   ]
  },
  {
   "cell_type": "code",
   "execution_count": 34,
   "metadata": {},
   "outputs": [
    {
     "data": {
      "text/plain": [
       "['최고예요',\n",
       " '최고예요',\n",
       " '최고예요/5',\n",
       " '점심에 쌈밥 짱맛있어용 볶음밥도 꿀맛/5',\n",
       " '삼겹살 너무 맛있고 직접 고기도 구워주시고 정말 친절한 식당입니다!/5',\n",
       " '주문하면 화내는집. 고기주문할려고 벨 누를때마다 아주머니가 한숨쉬면서 짜증내면서 오심 ㅋㅋㅋ 그런식으로 할꺼면 장사하지마세요/1',\n",
       " '별 1점도 아까운집 가격, 고기, 서비스 뭐 하나라도 조금이라도 좋은게 없는집/1']"
      ]
     },
     "execution_count": 34,
     "metadata": {},
     "output_type": "execute_result"
    }
   ],
   "source": [
    "comments"
   ]
  },
  {
   "cell_type": "code",
   "execution_count": 35,
   "metadata": {},
   "outputs": [
    {
     "data": {
      "text/plain": [
       "7"
      ]
     },
     "execution_count": 35,
     "metadata": {},
     "output_type": "execute_result"
    }
   ],
   "source": [
    "len(comments)"
   ]
  },
  {
   "cell_type": "code",
   "execution_count": 36,
   "metadata": {},
   "outputs": [
    {
     "data": {
      "text/plain": [
       "7"
      ]
     },
     "execution_count": 36,
     "metadata": {},
     "output_type": "execute_result"
    }
   ],
   "source": [
    "len(title)"
   ]
  },
  {
   "cell_type": "code",
   "execution_count": 37,
   "metadata": {},
   "outputs": [
    {
     "data": {
      "text/plain": [
       "['가마목', '가마목', '가마목', '가마목', '가마목', '가마목', '가마목']"
      ]
     },
     "execution_count": 37,
     "metadata": {},
     "output_type": "execute_result"
    }
   ],
   "source": [
    "title"
   ]
  },
  {
   "cell_type": "code",
   "execution_count": null,
   "metadata": {},
   "outputs": [],
   "source": []
  }
 ],
 "metadata": {
  "kernelspec": {
   "display_name": "Python 3",
   "language": "python",
   "name": "python3"
  },
  "language_info": {
   "codemirror_mode": {
    "name": "ipython",
    "version": 3
   },
   "file_extension": ".py",
   "mimetype": "text/x-python",
   "name": "python",
   "nbconvert_exporter": "python",
   "pygments_lexer": "ipython3",
   "version": "3.7.6"
  }
 },
 "nbformat": 4,
 "nbformat_minor": 4
}
